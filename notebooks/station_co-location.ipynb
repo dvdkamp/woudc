{
 "metadata": {
  "name": "",
  "signature": "sha256:73067f9cc9d7b6b58ec90a76e1b03803803c75d7bc938e2d512345e6845a5b91"
 },
 "nbformat": 3,
 "nbformat_minor": 0,
 "worksheets": [
  {
   "cells": [
    {
     "cell_type": "markdown",
     "metadata": {},
     "source": [
      "# WOUDC Station Intersection Report\n",
      "## WOUDC workflow to find common stations across datasets"
     ]
    },
    {
     "cell_type": "code",
     "collapsed": false,
     "input": [
      "import csv\n",
      "from StringIO import StringIO\n",
      "import sys\n",
      "from urllib2 import urlopen"
     ],
     "language": "python",
     "metadata": {},
     "outputs": []
    },
    {
     "cell_type": "code",
     "collapsed": false,
     "input": [
      "datasets = [\n",
      "    'totalozone',\n",
      "    'ozonesonde'\n",
      "]\n",
      "station_lookups = {}"
     ],
     "language": "python",
     "metadata": {},
     "outputs": []
    },
    {
     "cell_type": "markdown",
     "metadata": {},
     "source": [
      "Fetch each dataset's applicable stations"
     ]
    },
    {
     "cell_type": "code",
     "collapsed": false,
     "input": [
      "for dataset in datasets:\n",
      "    station_lookups[dataset] = []\n",
      "    url = 'http://geo.woudc.org/ows?service=WFS&version=1.1.0&request=GetFeature&outputformat=CSV&typename={}&filter=<Filter><And><PropertyIsEqualTo><PropertyName>latest_observation</PropertyName><Literal>1</Literal></PropertyIsEqualTo><PropertyIsNotEqualTo><PropertyName>platform_type</PropertyName><Literal></Literal></PropertyIsNotEqualTo></And></Filter>&propertyname=gaw_id'.format(dataset)\n",
      "    data = urlopen(url).read()\n",
      "    rows = csv.DictReader(StringIO(data))\n",
      "\n",
      "    for row in rows:\n",
      "        station_lookups[dataset].append(row['gaw_id'])"
     ],
     "language": "python",
     "metadata": {},
     "outputs": []
    },
    {
     "cell_type": "markdown",
     "metadata": {},
     "source": [
      "Derive intersecting stations"
     ]
    },
    {
     "cell_type": "code",
     "collapsed": false,
     "input": [
      "station_lookups = set([i for i in station_lookups['totalozone'] for j in station_lookups['ozonesonde'] if i==j and i != ''])"
     ],
     "language": "python",
     "metadata": {},
     "outputs": []
    },
    {
     "cell_type": "markdown",
     "metadata": {},
     "source": [
      "fetch list of all stations from stations list"
     ]
    },
    {
     "cell_type": "code",
     "collapsed": false,
     "input": [
      "url = 'http://geo.woudc.org/ows?service=WFS&version=1.1.0&request=GetFeature&typename=stations&outputformat=CSV'\n",
      "data = urlopen(url).read()\n",
      "rows = csv.DictReader(StringIO(data))"
     ],
     "language": "python",
     "metadata": {},
     "outputs": []
    },
    {
     "cell_type": "markdown",
     "metadata": {},
     "source": [
      "Now dump matching stations to stdout"
     ]
    },
    {
     "cell_type": "code",
     "collapsed": false,
     "input": [
      "output = csv.DictWriter(sys.stdout, fieldnames=rows.fieldnames)\n",
      "output.writeheader()\n",
      "for row in rows:\n",
      "    if row['gaw_platform_identifier'] in station_lookups:\n",
      "        output.writerow(row)"
     ],
     "language": "python",
     "metadata": {},
     "outputs": [
      {
       "output_type": "stream",
       "stream": "stdout",
       "text": [
        "Y,X,date_from,date_to,gaw_platform_identifier,woudc_platform_identifier,platform_name,acronym,platform_type,country,wmo_region,contributor_name,revision_date\r\n",
        "-6.0,-35.2,1978/11/19 00:00:00+00,2016/11/01 00:00:00+00,NAT,219,Natal,INPE,STN,Brazil,III,National Institute of Aerospace Science of Brazil,\r\n",
        "80.05,-86.42,1992/11/03 11:00:00+00,2014/12/24 23:15:00+00,EUK,315,Eureka / Eureka Lab,MSC,STN,Canada,IV,Meteorological Service of Canada (Atmospheric Environment Service),\r\n",
        "-1.3,36.75,1984/04/19 00:00:00+00,2003/12/31 07:56:00+00,NRB,175,Nairobi,U_Nairobi,STN,Kenya,I,University of Nairobi,\r\n",
        "-90.0,-24.8,2012/11/01 00:00:00+00,2015/01/01 00:00:00+00,SPO,111,Amundsen-Scott,MSC,STN,Antarctica,the Antarctic,Meteorological Service of Canada (Atmospheric Environment Service),\r\n",
        "-70.46,11.45,1994/01/08 22:00:00+00,2011/11/08 09:09:00+00,MTR,400,Maitri,IMD,STN,Antarctica,the Antarctic,India Meteorological Department,\r\n",
        "-6.0,-35.2,1997/01/22 18:20:36+00,2015/12/29 15:10:05+00,NAT,219,Natal,NASA-WFF,STN,Brazil,III,NASA - Wallops Island Flight Facility,\r\n",
        "60.13,-1.18,2000/07/01 00:00:00+00,2012/09/01 00:00:00+00,SIS,043,Lerwick,UK-NETCEN,STN,United Kingdom,VI,UK National Environmental Technology Centre,\r\n",
        "-54.5,158.9,1957/07/07 00:00:00+00,2016/12/27 23:29:31+00,MQA,029,Macquarie Island,ABM,STN,Australia,V,Australian Bureau of Meteorology,\r\n",
        "78.92,11.92,1990/10/31 14:00:00+00,2013/07/17 11:07:00+00,NYA,089,Ny Alesund,AWI-NA,STN,Norway,VI,Alfred Wegener Institute - Ny Alesund,\r\n",
        "24.6,72.72,1951/10/21 00:00:00+00,1982/04/01 00:00:00+00,MAB,009,Mount Abu,PRLI,STN,India,II,Physical Research Laboratory of India,\r\n",
        "43.92,5.75,1995/12/03 20:24:00+00,1997/04/03 15:45:00+00,OHP,040,Haute Provence,IPSL,STN,France,VI,Institut Pierre Simon Laplace (France),\r\n",
        "21.2,105.8,1993/01/01 00:00:00+00,2014/06/01 00:00:00+00,AAR,330,Hanoi,HSSRV,STN,Viet Nam,II,Hydrometeorological Service of S.R. Vietnam,\r\n",
        "38.98,-77.48,1957/07/01 00:00:00+00,1967/06/01 00:00:00+00,SVA,064,Sterling (Washington),NOAA-CMDL,STN,United States,VI,NOAA - Climate Monitoring and Diagnostics Laboratory,\r\n",
        "-54.85,-68.31,1988/11/18 23:03:32+00,2009/02/28 00:00:00+00,USH,339,Ushuaia,NSF,STN,Argentina,III,National Science Foundation - USA,\r\n",
        "-2.76,-171.7,1965/02/16 00:00:00+00,1965/12/28 23:00:00+00,CTI,108,Canton Island,NOAA-CMDL,STN,United States,VI,NOAA - Climate Monitoring and Diagnostics Laboratory,\r\n",
        "-90.0,-24.8,1990/10/17 00:03:33+00,2010/04/01 00:01:20+00,SPO,111,Amundsen-Scott (South Pole),NSF,STN,Antarctica,the Antarctic,National Science Foundation - USA,\r\n",
        "25.02,121.5,1965/07/01 00:00:00+00,2013/10/01 00:00:00+00,CWB,095,Taipei,CWBT,STN,\"Taiwan, Province of China\",II,Central Weather Bureau of Taiwan,\r\n",
        "43.78,-79.49,2001/01/01 00:00:00+00,2006/09/28 00:00:00+00,TOT,065,Toronto,USDA_CSU,STN,Canada,IV,US Department of Agriculture - Colorado State University,\r\n",
        "31.55,130.6,1958/02/27 00:00:00+00,2005/03/31 06:00:54+00,KAG,007,Kagoshima,JMA,STN,Japan,II,Japan Meteorological Agency,\r\n",
        "58.737902,-93.820581,1968/07/19 18:36:00+00,1979/03/15 17:08:00+00,CHL,077,Churchill,NASA-GSFC,STN,Canada,IV,NASA Goddard Space Flight Center,\r\n",
        "65.116668701199998,-147.483306884799987,1976/09/28 19:47:00+00,1979/07/17 16:11:00+00,NAT,217,Poker Flat,NASA-GSFC,STN,United States,VI,NASA Goddard Space Flight Center,\r\n",
        "-72.32,170.2,1961/01/01 00:00:00+00,1963/11/16 11:00:00+00,HAL,069,Hallett,NOAA-CMDL,STN,Antarctica,the Antarctic,NOAA - Climate Monitoring and Diagnostics Laboratory,\r\n",
        "-79.980003356899999,9.329999923700001,1970/11/06 16:45:00+00,1970/11/13 16:45:00+00,NAT,203,Fort Sherman,NASA-GSFC,STN,Panama,IV,NASA Goddard Space Flight Center,\r\n",
        "-35.200000762899997,-6.0,1978/11/19 15:08:00+00,1980/02/24 15:10:00+00,NAT,219,Natal,NASA-GSFC,STN,Brazil,III,NASA Goddard Space Flight Center,\r\n",
        "50.2,-104.7,2001/01/01 00:00:00+00,2006/09/28 00:00:00+00,BRA,338,Bratts Lake (Regina),USDA_CSU,STN,Canada,IV,US Department of Agriculture - Colorado State University,\r\n",
        "71.32,-156.6,1991/01/23 22:01:06+00,2014/11/28 22:01:08+00,BRW,199,Barrow,NSF,STN,United States,VI,National Science Foundation - USA,\r\n",
        "78.92,11.92,1966/11/28 00:00:00+00,1997/04/01 00:00:00+00,NYA,089,Ny Alesund,U_Oslo,STN,Norway,VI,University of Oslo,\r\n",
        "43.78,-79.49,1991/03/14 00:44:00+00,1997/12/16 02:28:00+00,TOT,065,Toronto,CRESTech,STN,Canada,IV,Centre for Research in Earth and Space Technology,\r\n",
        "32.48,51.43,1995/07/31 11:26:00+00,2011/04/25 12:04:00+00,EFH,336,Isfahan,MDI,STN,\"Iran, Islamic Republic of\",II,Meteorological Department of Iran,\r\n",
        "-45.04,169.7,2001/11/22 00:00:00+00,2006/09/28 00:00:00+00,LAU,256,Lauder,USDA_CSU,STN,New Zealand,V,US Department of Agriculture - Colorado State University,\r\n",
        "44.38,-1.23,1976/03/16 00:00:00+00,1983/01/19 13:00:00+00,BIS,197,Biscarrosse/Sms,CNRS,STN,France,VI,National Centre for Scientific Research - France,\r\n",
        "43.78,-79.49,1959/12/17 00:00:00+00,2014/12/31 08:40:54+00,TOT,065,Toronto,MSC,STN,Canada,IV,Meteorological Service of Canada (Atmospheric Environment Service),\r\n",
        "-70.77,11.87,1985/05/22 00:00:00+00,1991/02/25 00:00:00+00,NLZ,280,Novolasarevskaya / Forster,MGO,STN,Antarctica,the Antarctic,Main Geophysical Observatory of  Russia,\r\n",
        "60.13,-1.18,1952/06/01 00:00:00+00,2014/11/05 00:00:00+00,SIS,043,Lerwick,UKMO,STN,United Kingdom,VI,UK Meteorological Office,\r\n",
        "-66.55,93.0,1960/02/07 00:00:00+00,1991/12/11 00:00:00+00,MIR,088,Mirny,MGO,STN,Antarctica,the Antarctic,Main Geophysical Observatory of  Russia,\r\n",
        "-45.04,169.7,1987/01/29 00:00:00+00,2012/12/03 00:00:00+00,LAU,256,Lauder,NOAA-CMDL,STN,New Zealand,V,NOAA - Climate Monitoring and Diagnostics Laboratory,\r\n",
        "32.48,51.43,1998/01/01 00:00:00+00,2000/07/01 00:00:00+00,EFH,336,Isfahan,IGUT,STN,\"Iran, Islamic Republic of\",II,Institute of Geophysics - University of Tehran,\r\n",
        "28.63,77.18,1957/07/01 00:00:00+00,2011/12/28 06:00:00+00,NDL,010,New Delhi / New Delhi Sonde,IMD,STN,India,II,India Meteorological Department,\r\n",
        "70.48,-21.95,1989/02/08 11:00:00+00,2003/12/26 11:00:00+00,SCB,406,Scoresbysund,DMI,STN,Greenland,VI,Danish Meteorological Institute,\r\n",
        "-64.24,-56.62,1987/08/12 00:00:00+00,2016/04/01 00:00:00+00,MBI,233,Marambio,SMNA,STN,Antarctica,the Antarctic,National Meteorological Service of Argentina,\r\n",
        "74.72,-94.98,1957/07/07 00:00:00+00,2014/12/31 23:45:00+00,RSL,024,Resolute,MSC,STN,Canada,IV,Meteorological Service of Canada (Atmospheric Environment Service),\r\n",
        "50.2,-104.7,1994/03/15 00:00:00+00,2011/11/30 17:15:00+00,BRA,338,Bratts Lake (Regina),MSC,STN,Canada,IV,Meteorological Service of Canada (Atmospheric Environment Service),\r\n",
        "78.92,11.92,2007/05/19 00:00:00+00,2009/12/02 00:00:00+00,NYA,089,Ny Alesund,CNR,STN,Norway,VI,Italian National Centre for Research,\r\n",
        "46.87,-68.01,1958/04/24 00:00:00+00,2014/10/21 00:00:00+00,CBM,020,Caribou,NOAA-CMDL,STN,United States,VI,NOAA - Climate Monitoring and Diagnostics Laboratory,\r\n",
        "37.1,-6.73,1976/01/13 00:00:00+00,2015/01/01 00:00:00+00,ARN,213,El Arenosillo,INTA,STN,Spain,VI,National Institute of Aerospace Technology of Spain,\r\n",
        "53.55,-114.1,1957/07/01 00:00:00+00,2014/12/31 11:17:00+00,EDT,021,Edmonton / Stony Plain,MSC,STN,Canada,IV,Meteorological Service of Canada (Atmospheric Environment Service),\r\n",
        "67.36,26.63,1988/03/14 13:37:59+00,2010/05/01 00:00:00+00,SDK,262,Sodankyla,FMI,STN,Finland,VI,Finnish Meteorological Institute,\r\n",
        "60.13,-1.18,2012/10/01 00:00:00+00,2014/11/01 00:00:00+00,SIS,043,Lerwick,UK-Ricardo-AEA,STN,United Kingdom,VI,UK-Ricardo-AEA,\r\n",
        "80.05,-86.42,1993/02/08 23:18:00+00,1998/12/30 05:31:00+00,EUK,315,Eureka / Eureka Lab,CRESTech,STN,Canada,IV,Centre for Research in Earth and Space Technology,\r\n",
        "37.94,-75.46,1968/09/16 18:12:00+00,1994/07/06 20:57:00+00,WAI,107,Wallops Island,NASA-GSFC,STN,United States,VI,NASA Goddard Space Flight Center,\r\n",
        "18.53,73.85,1966/02/10 17:00:00+00,2011/11/02 06:20:00+00,PNA,187,Pune,IMD,STN,India,II,India Meteorological Department,\r\n",
        "51.94,-10.25,1993/02/16 00:00:00+00,2017/01/01 00:00:00+00,VTO,318,Valentia Observatory,ME,STN,Ireland,VI,Irish Meteorological Office,\r\n",
        "39.95,32.88,1994/01/13 12:00:00+00,2012/12/19 12:00:00+00,TRA,348,Ankara,TSMS,STN,Turkey,VI,Turkish State Meteorological Service,\r\n",
        "42.45,-71.27,1963/10/07 00:00:00+00,1971/03/23 15:00:00+00,BED,104,Bedford,NOAA-CMDL,STN,United States,VI,NOAA - Climate Monitoring and Diagnostics Laboratory,\r\n",
        "-1.3,36.75,2005/05/26 00:00:00+00,2012/12/05 00:00:00+00,NRB,175,Nairobi,KMD,STN,Kenya,I,Kenyan Meteorological Department,\r\n",
        "82.5,-62.34,1957/07/04 00:00:00+00,2014/12/24 23:26:00+00,ALT,018,Alert / Alert Gaw Lab,MSC,STN,Canada,IV,Meteorological Service of Canada (Atmospheric Environment Service),\r\n",
        "39.25,9.05,1954/10/01 00:00:00+00,1989/05/01 00:00:00+00,CAE,038,Cagliari/Elmas,AM-IMS,STN,Italy,VI,Meteorological Service of the Italian Military Airforce,\r\n",
        "60.82,23.5,1995/01/12 14:10:59+00,2001/05/01 00:00:00+00,JOK,404,Jokioinen,FMI,STN,Finland,VI,Finnish Meteorological Institute,\r\n",
        "1.32,103.9,1979/02/01 00:00:00+00,2015/12/17 23:50:04+00,SIN,214,Singapore,MSS,STN,Singapore,V,Meteorological Service Singapore,\r\n",
        "53.29,-60.39,1962/01/01 00:00:00+00,2014/12/31 23:15:00+00,GOB,076,Goose Bay,MSC,STN,Canada,IV,Meteorological Service of Canada (Atmospheric Environment Service),\r\n",
        "-37.69,144.9,1999/02/16 03:22:00+00,2016/12/21 01:26:29+00,BRO,394,Broadmeadows,ABM,STN,Australia,V,Australian Bureau of Meteorology,\r\n",
        "-38.03,145.1,1957/07/01 00:00:00+00,1982/12/01 00:00:00+00,APL,026,Aspendale,ABM,STN,Australia,V,Australian Bureau of Meteorology,\r\n",
        "42.82,23.38,1964/04/09 00:00:00+00,2001/12/01 00:00:00+00,SOF,132,Sofia,BNIHM,STN,Bulgaria,VI,Bulgarian National Institute of Hydrology and Meteorology,\r\n",
        "43.92,5.75,1957/10/20 00:00:00+00,2016/03/01 00:00:00+00,OHP,040,Haute Provence,NOAA-CMDL,STN,France,VI,NOAA - Climate Monitoring and Diagnostics Laboratory,2015/04/29 20:11:18+00\r\n",
        "71.32,-156.6,1973/07/29 00:00:00+00,2015/09/04 00:00:00+00,BRW,199,Barrow,NOAA-CMDL,STN,United States,VI,NOAA - Climate Monitoring and Diagnostics Laboratory,\r\n",
        "40.45,-3.72,1991/05/26 00:00:00+00,2017/02/08 10:59:00+00,MAD,308,Madrid / Barajas,AEMET,STN,Spain,VI,National Institute of Meteorology of Spain,\r\n",
        "28.47,-16.25,1996/01/03 10:33:00+00,2016/12/01 00:00:00+00,SCO,401,Santa Cruz,AEMET,STN,Spain,VI,National Institute of Meteorology of Spain,\r\n",
        "26.2,127.7,1974/04/01 00:00:00+00,2016/12/31 06:59:59+00,NAH,190,Naha,JMA,STN,Japan,II,Japan Meteorological Agency,2016/06/27 14:43:16+00\r\n",
        "43.06,141.3,1958/02/01 00:00:00+00,2016/12/31 06:59:46+00,SAP,012,Sapporo,JMA,STN,Japan,II,Japan Meteorological Agency,2016/06/27 14:43:16+00\r\n",
        "50.8,4.36,1952/06/01 00:00:00+00,2017/01/02 00:00:00+00,RMI,053,Uccle,RMIB,STN,Belgium,VI,Royal Meteorological Institute of Belgium,2015/01/23 01:35:48+00\r\n",
        "5.81,-55.21,1999/03/15 00:00:00+00,2015/02/11 15:03:00+00,PMO,435,Paramaribo,KNMI,STN,Suriname,III,National  Meteorological Institute of the Netherlands,2014/10/02 19:14:33+00\r\n",
        "-64.24,-56.62,2010/02/14 00:00:00+00,2016/12/01 00:00:00+00,MBI,233,Marambio,IAA-CHMI,STN,Antarctica,the Antarctic,Instituto Antarctico Argentino - Czech Hydrometeorological Institute,\r\n",
        "64.82,-147.9,1964/11/10 23:00:00+00,2016/06/01 00:00:00+00,FBK,105,Fairbanks (College),NOAA-CMDL,STN,United States,VI,NOAA - Climate Monitoring and Diagnostics Laboratory,\r\n",
        "-45.04,169.7,1986/08/02 21:23:00+00,2016/08/29 21:24:42+00,LAU,256,Lauder,NIWA-LAU,STN,New Zealand,V,National Institute of Water and Atmospheric Research of New Zealand at Lauder,\r\n",
        "-64.24,-56.62,2004/01/07 11:17:00+00,2016/10/23 11:46:00+00,MBI,233,Marambio,FMI-SMNA,STN,Antarctica,the Antarctic,Finnish Meteorological Institute - National Meteorological Service of Argentina,\r\n",
        "43.92,5.75,1992/09/01 00:00:00+00,2015/12/01 00:00:00+00,OHP,040,Haute Provence,CNRS,STN,France,VI,National Centre for Scientific Research - France,\r\n",
        "70.48,-21.95,1993/10/02 00:00:00+00,2015/11/04 00:00:00+00,SCB,406,Scoresbysund,CNRS,STN,Greenland,VI,National Centre for Scientific Research - France,\r\n",
        "67.36,26.63,1990/02/11 00:00:00+00,2015/12/01 00:00:00+00,SDK,262,Sodankyla,CNRS,STN,Finland,VI,National Centre for Scientific Research - France,\r\n",
        "-90.0,-24.8,1961/11/17 00:00:00+00,2016/06/17 00:00:00+00,SPO,111,Amundsen-Scott (South Pole),NOAA-CMDL,STN,Antarctica,the Antarctic,NOAA - Climate Monitoring and Diagnostics Laboratory,\r\n",
        "-54.85,-68.31,1994/10/01 00:00:00+00,2016/10/26 12:39:00+00,USH,339,Ushuaia,SMNA,STN,Argentina,III,National Meteorological Service of Argentina,\r\n",
        "37.94,-75.46,1967/06/23 00:00:00+00,2016/06/01 00:00:00+00,WAI,107,Wallops Island,NOAA-CMDL,STN,United States,VI,NOAA - Climate Monitoring and Diagnostics Laboratory,\r\n",
        "47.8,11.01,1966/11/02 10:00:00+00,2017/01/30 06:13:00+00,HPB,099,Hohenpeissenberg,DWD-MOHp,STN,Germany,VI,German Weather Service - Meteorological Observatory at Hohenpeissenberg,\r\n",
        "36.05,140.1,1957/06/26 00:00:00+00,2016/12/31 07:00:04+00,TKB,014,Tateno / Tsukuba,JMA,STN,Japan,II,Japan Meteorological Agency,2016/06/27 14:43:16+00\r\n",
        "37.94,-75.46,1970/05/06 12:00:00+00,2016/07/19 17:02:00+00,WAI,107,Wallops Island,NASA-WFF,STN,United States,VI,NASA - Wallops Island Flight Facility,2015/09/21 10:57:14+00\r\n",
        "42.08,12.52,1954/04/01 00:00:00+00,2015/11/03 11:23:00+00,VDV,055,Vigna Di Valle,AM-IMS,STN,Italy,VI,Meteorological Service of the Italian Military Airforce,2015/12/07 18:46:45+00\r\n",
        "-14.25,-170.6,1975/12/18 00:00:00+00,2014/06/03 00:00:00+00,SMO,191,Samoa,NOAA-CMDL,STN,American Samoa,V,NOAA - Climate Monitoring and Diagnostics Laboratory,2014/10/02 19:13:31+00\r\n",
        "52.22,14.12,1975/01/08 11:00:00+00,2014/08/13 12:00:00+00,LIN,174,Lindenberg,DWD-MOL,STN,Germany,VI,German Weather Service - Meteorological Observatory at Lindenberg,2014/10/02 19:50:30+00\r\n",
        "52.1,5.18,1992/11/26 11:17:00+00,2015/12/31 11:26:47+00,DBT,316,De Bilt,KNMI,STN,Netherlands,VI,National  Meteorological Institute of the Netherlands,2016/02/17 10:24:58+00\r\n",
        "-69.0,39.58,1961/03/23 00:00:00+00,2016/12/31 01:15:49+00,SYO,101,Syowa,JMA,STN,Japan,II,Japan Meteorological Agency,2016/06/27 14:43:16+00\r\n",
        "-1.3,36.75,1998/01/07 00:00:00+00,2013/12/24 06:12:03+00,NRB,175,Nairobi,MeteoSwiss,STN,Kenya,I,MeteoSwiss (formerly Swiss Meteorological Institute),2015/03/29 23:50:22+00\r\n",
        "-25.91,28.22,1990/07/02 00:00:00+00,2015/12/01 00:00:00+00,IRE,265,Irene,SAWS,STN,South Africa,I,South African Weather Service,2015/01/22 22:11:29+00\r\n"
       ]
      }
     ],
     "prompt_number": 6
    }
   ],
   "metadata": {}
  }
 ]
}
